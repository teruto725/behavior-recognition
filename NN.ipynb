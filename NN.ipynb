{
 "cells": [
  {
   "cell_type": "code",
   "execution_count": 1,
   "metadata": {},
   "outputs": [],
   "source": [
    "import numpy as np\n",
    "import matplotlib.pyplot as plt\n",
    "import pandas as pd\n",
    "import seaborn as sns\n",
    "\n",
    "f = open(\"./UCI HAR Dataset/train/y_train.txt\")\n",
    "y_data = f.read().split()\n",
    "y_data = np.array(y_data)\n",
    "\n",
    "y_label = [\"walking\",\"walking_upstaires\",\"walking_downstairs\",\"sitting,standing\",\"laying\"]\n",
    "f.close()\n",
    "f = open(\"./UCI HAR Dataset/train/X_train.txt\")\n",
    "X_data_arr = f.read().split()\n",
    "X_data_arr = np.reshape(X_data_arr,(7352,561))\n",
    "X_data = pd.DataFrame(X_data_arr)\n",
    "f.close()\n",
    "#ラベルデータ\n",
    "f_label = []\n",
    "with open('./UCI HAR Dataset/features.txt', mode='rt', encoding='utf-8') as f:\n",
    "    for line in f:\n",
    "        l = line.split()\n",
    "        f_label.append(l[1])\n",
    "\n",
    "#学習用データ\n",
    "X_train = X_data.values\n",
    "Y_train = y_data\n",
    "X_train = X_train.astype(np.float64)\n",
    "Y_train = y_data.astype(np.int64)\n",
    "\n",
    "\n",
    "#テスト用データ\n",
    "f = open(\"./UCI HAR Dataset/test/y_test.txt\")\n",
    "Y_test = np.array(f.read().split())\n",
    "Y_test = Y_test.astype(np.int64)\n",
    "f.close()\n",
    "\n",
    "f = open(\"./UCI HAR Dataset/test/X_test.txt\")\n",
    "X_test = f.read().split()\n",
    "X_test = np.reshape(X_test,(len(Y_test),int(len(X_test)/len(Y_test))))\n",
    "X_test = np.array(X_test, dtype=float)\n"
   ]
  },
  {
   "cell_type": "code",
   "execution_count": 2,
   "metadata": {},
   "outputs": [
    {
     "name": "stdout",
     "output_type": "stream",
     "text": [
      "1.0\n"
     ]
    },
    {
     "name": "stderr",
     "output_type": "stream",
     "text": [
      "c:\\users\\井原輝人\\appdata\\local\\programs\\python\\python37\\lib\\site-packages\\sklearn\\discriminant_analysis.py:388: UserWarning: Variables are collinear.\n",
      "  warnings.warn(\"Variables are collinear.\")\n"
     ]
    },
    {
     "data": {
      "text/plain": [
       "(7352, 5)"
      ]
     },
     "execution_count": 2,
     "metadata": {},
     "output_type": "execute_result"
    }
   ],
   "source": [
    "#前処理（標準化＋LDA)\n",
    "\n",
    "from sklearn.pipeline import make_pipeline\n",
    "from sklearn.preprocessing import StandardScaler\n",
    "from sklearn.discriminant_analysis import LinearDiscriminantAnalysis as LDA\n",
    "sc = StandardScaler()\n",
    "X_train = sc.fit_transform(X_train)\n",
    "X_test = sc.transform(X_test)\n",
    "print(np.std(X_train[0:]))\n",
    "lda = LDA(n_components=6)\n",
    "X_train = lda.fit_transform(X_train,Y_train)\n",
    "X_test= lda.transform(X_test)\n",
    "np.shape(X_train)"
   ]
  },
  {
   "cell_type": "code",
   "execution_count": 3,
   "metadata": {},
   "outputs": [],
   "source": [
    "import tensorflow as tf\n",
    "import tensorflow.keras as keras\n",
    "\n",
    "# NOTE:\n",
    "# ================================================\n",
    "# If you have TensorFlow v1.3 installed\n",
    "# you can use the keras API by\n",
    "# importing it from the contrib module\n",
    "# `import tensorflow.contrib.keras as keras`\n"
   ]
  },
  {
   "cell_type": "code",
   "execution_count": 4,
   "metadata": {},
   "outputs": [
    {
     "name": "stdout",
     "output_type": "stream",
     "text": [
      "First 3 labels:  [5 5 5]\n",
      "\n",
      "First 3 labels (one-hot):\n",
      " [[0. 0. 0. 0. 0. 1. 0.]\n",
      " [0. 0. 0. 0. 0. 1. 0.]\n",
      " [0. 0. 0. 0. 0. 1. 0.]]\n"
     ]
    }
   ],
   "source": [
    "Y_train_onehot = keras.utils.to_categorical(Y_train)\n",
    "print('First 3 labels: ', Y_train[:3])\n",
    "print('\\nFirst 3 labels (one-hot):\\n', Y_train_onehot[:3])"
   ]
  },
  {
   "cell_type": "code",
   "execution_count": 5,
   "metadata": {},
   "outputs": [],
   "source": [
    "model = keras.models.Sequential()\n",
    "\n",
    "model.add(\n",
    "    keras.layers.Dense(\n",
    "        units=50,    \n",
    "        input_dim=np.shape(X_train)[1],\n",
    "        kernel_initializer='glorot_uniform',\n",
    "        bias_initializer='zeros',\n",
    "        activation='tanh'))\n",
    "\n",
    "model.add(\n",
    "    keras.layers.Dense(\n",
    "        units=50,    \n",
    "        input_dim=50,\n",
    "        kernel_initializer='glorot_uniform',\n",
    "        bias_initializer='zeros',\n",
    "        activation='tanh'))\n",
    "\n",
    "\n",
    "model.add(\n",
    "    keras.layers.Dense(\n",
    "        units=Y_train_onehot.shape[1],    \n",
    "        input_dim=50,\n",
    "        kernel_initializer='glorot_uniform',\n",
    "        bias_initializer='zeros',\n",
    "        activation='softmax'))\n",
    "\n",
    "\n",
    "sgd_optimizer = keras.optimizers.SGD(\n",
    "        lr=0.0001, decay=1e-7, momentum=.9)\n",
    "\n",
    "model.compile(optimizer=sgd_optimizer,\n",
    "              loss='categorical_crossentropy',\n",
    "              metrics=['accuracy'])"
   ]
  },
  {
   "cell_type": "code",
   "execution_count": 6,
   "metadata": {},
   "outputs": [
    {
     "name": "stdout",
     "output_type": "stream",
     "text": [
      "float64\n",
      "Train on 6616 samples, validate on 736 samples\n",
      "Epoch 1/60\n",
      "6616/6616 [==============================] - 1s 89us/sample - loss: 1.8758 - accuracy: 0.2480 - val_loss: 1.2241 - val_accuracy: 0.5802\n",
      "Epoch 2/60\n",
      "6616/6616 [==============================] - 0s 29us/sample - loss: 1.0053 - accuracy: 0.6640 - val_loss: 0.7917 - val_accuracy: 0.7500\n",
      "Epoch 3/60\n",
      "6616/6616 [==============================] - 0s 30us/sample - loss: 0.7180 - accuracy: 0.8059 - val_loss: 0.6064 - val_accuracy: 0.9293\n",
      "Epoch 4/60\n",
      "6616/6616 [==============================] - 0s 28us/sample - loss: 0.5767 - accuracy: 0.9592 - val_loss: 0.5009 - val_accuracy: 0.9905\n",
      "Epoch 5/60\n",
      "6616/6616 [==============================] - 0s 30us/sample - loss: 0.4885 - accuracy: 0.9781 - val_loss: 0.4294 - val_accuracy: 0.9973\n",
      "Epoch 6/60\n",
      "6616/6616 [==============================] - 0s 39us/sample - loss: 0.4259 - accuracy: 0.9823 - val_loss: 0.3764 - val_accuracy: 0.9986\n",
      "Epoch 7/60\n",
      "6616/6616 [==============================] - 0s 30us/sample - loss: 0.3781 - accuracy: 0.9828 - val_loss: 0.3349 - val_accuracy: 0.9986\n",
      "Epoch 8/60\n",
      "6616/6616 [==============================] - 0s 28us/sample - loss: 0.3399 - accuracy: 0.9823 - val_loss: 0.3012 - val_accuracy: 0.9986\n",
      "Epoch 9/60\n",
      "6616/6616 [==============================] - 0s 29us/sample - loss: 0.3086 - accuracy: 0.9831 - val_loss: 0.2733 - val_accuracy: 0.9986\n",
      "Epoch 10/60\n",
      "6616/6616 [==============================] - 0s 30us/sample - loss: 0.2824 - accuracy: 0.9832 - val_loss: 0.2497 - val_accuracy: 0.9986\n",
      "Epoch 11/60\n",
      "6616/6616 [==============================] - 0s 29us/sample - loss: 0.2602 - accuracy: 0.9832 - val_loss: 0.2294 - val_accuracy: 0.9986\n",
      "Epoch 12/60\n",
      "6616/6616 [==============================] - 0s 29us/sample - loss: 0.2412 - accuracy: 0.9834 - val_loss: 0.2120 - val_accuracy: 0.9986\n",
      "Epoch 13/60\n",
      "6616/6616 [==============================] - 0s 28us/sample - loss: 0.2247 - accuracy: 0.9832 - val_loss: 0.1968 - val_accuracy: 0.9986\n",
      "Epoch 14/60\n",
      "6616/6616 [==============================] - 0s 29us/sample - loss: 0.2103 - accuracy: 0.9837 - val_loss: 0.1834 - val_accuracy: 0.9986\n",
      "Epoch 15/60\n",
      "6616/6616 [==============================] - 0s 29us/sample - loss: 0.1976 - accuracy: 0.9834 - val_loss: 0.1715 - val_accuracy: 0.9986\n",
      "Epoch 16/60\n",
      "6616/6616 [==============================] - 0s 28us/sample - loss: 0.1864 - accuracy: 0.9837 - val_loss: 0.1611 - val_accuracy: 0.9986\n",
      "Epoch 17/60\n",
      "6616/6616 [==============================] - 0s 28us/sample - loss: 0.1764 - accuracy: 0.9834 - val_loss: 0.1516 - val_accuracy: 0.9986\n",
      "Epoch 18/60\n",
      "6616/6616 [==============================] - 0s 29us/sample - loss: 0.1675 - accuracy: 0.9835 - val_loss: 0.1432 - val_accuracy: 0.9986\n",
      "Epoch 19/60\n",
      "6616/6616 [==============================] - 0s 29us/sample - loss: 0.1595 - accuracy: 0.9838 - val_loss: 0.1356 - val_accuracy: 0.9986\n",
      "Epoch 20/60\n",
      "6616/6616 [==============================] - 0s 29us/sample - loss: 0.1523 - accuracy: 0.9835 - val_loss: 0.1288 - val_accuracy: 0.9986\n",
      "Epoch 21/60\n",
      "6616/6616 [==============================] - 0s 29us/sample - loss: 0.1458 - accuracy: 0.9837 - val_loss: 0.1225 - val_accuracy: 0.9986\n",
      "Epoch 22/60\n",
      "6616/6616 [==============================] - 0s 29us/sample - loss: 0.1399 - accuracy: 0.9837 - val_loss: 0.1168 - val_accuracy: 0.9986\n",
      "Epoch 23/60\n",
      "6616/6616 [==============================] - 0s 30us/sample - loss: 0.1345 - accuracy: 0.9837 - val_loss: 0.1116 - val_accuracy: 0.9986\n",
      "Epoch 24/60\n",
      "6616/6616 [==============================] - 0s 28us/sample - loss: 0.1296 - accuracy: 0.9838 - val_loss: 0.1068 - val_accuracy: 0.9986\n",
      "Epoch 25/60\n",
      "6616/6616 [==============================] - 0s 31us/sample - loss: 0.1250 - accuracy: 0.9838 - val_loss: 0.1024 - val_accuracy: 0.9986\n",
      "Epoch 26/60\n",
      "6616/6616 [==============================] - 0s 38us/sample - loss: 0.1209 - accuracy: 0.9838 - val_loss: 0.0984 - val_accuracy: 0.9986\n",
      "Epoch 27/60\n",
      "6616/6616 [==============================] - 0s 29us/sample - loss: 0.1171 - accuracy: 0.9843 - val_loss: 0.0947 - val_accuracy: 0.9986\n",
      "Epoch 28/60\n",
      "6616/6616 [==============================] - 0s 29us/sample - loss: 0.1136 - accuracy: 0.9841 - val_loss: 0.0911 - val_accuracy: 0.9986\n",
      "Epoch 29/60\n",
      "6616/6616 [==============================] - 0s 29us/sample - loss: 0.1103 - accuracy: 0.9840 - val_loss: 0.0880 - val_accuracy: 0.9986\n",
      "Epoch 30/60\n",
      "6616/6616 [==============================] - 0s 30us/sample - loss: 0.1073 - accuracy: 0.9838 - val_loss: 0.0851 - val_accuracy: 0.9986\n",
      "Epoch 31/60\n",
      "6616/6616 [==============================] - 0s 29us/sample - loss: 0.1045 - accuracy: 0.9840 - val_loss: 0.0822 - val_accuracy: 0.9986\n",
      "Epoch 32/60\n",
      "6616/6616 [==============================] - 0s 28us/sample - loss: 0.1019 - accuracy: 0.9840 - val_loss: 0.0797 - val_accuracy: 0.9986\n",
      "Epoch 33/60\n",
      "6616/6616 [==============================] - 0s 30us/sample - loss: 0.0995 - accuracy: 0.9843 - val_loss: 0.0772 - val_accuracy: 0.9986\n",
      "Epoch 34/60\n",
      "6616/6616 [==============================] - 0s 28us/sample - loss: 0.0972 - accuracy: 0.9840 - val_loss: 0.0749 - val_accuracy: 0.9986\n",
      "Epoch 35/60\n",
      "6616/6616 [==============================] - 0s 31us/sample - loss: 0.0950 - accuracy: 0.9843 - val_loss: 0.0728 - val_accuracy: 0.9986\n",
      "Epoch 36/60\n",
      "6616/6616 [==============================] - 0s 28us/sample - loss: 0.0930 - accuracy: 0.9841 - val_loss: 0.0707 - val_accuracy: 0.9986\n",
      "Epoch 37/60\n",
      "6616/6616 [==============================] - 0s 30us/sample - loss: 0.0912 - accuracy: 0.9841 - val_loss: 0.0689 - val_accuracy: 0.9986\n",
      "Epoch 38/60\n",
      "6616/6616 [==============================] - 0s 29us/sample - loss: 0.0894 - accuracy: 0.9843 - val_loss: 0.0670 - val_accuracy: 0.9986\n",
      "Epoch 39/60\n",
      "6616/6616 [==============================] - 0s 28us/sample - loss: 0.0877 - accuracy: 0.9843 - val_loss: 0.0653 - val_accuracy: 0.9986\n",
      "Epoch 40/60\n",
      "6616/6616 [==============================] - 0s 30us/sample - loss: 0.0861 - accuracy: 0.9843 - val_loss: 0.0637 - val_accuracy: 0.9986\n",
      "Epoch 41/60\n",
      "6616/6616 [==============================] - 0s 29us/sample - loss: 0.0846 - accuracy: 0.9843 - val_loss: 0.0621 - val_accuracy: 0.9986\n",
      "Epoch 42/60\n",
      "6616/6616 [==============================] - 0s 28us/sample - loss: 0.0832 - accuracy: 0.9844 - val_loss: 0.0606 - val_accuracy: 0.9986\n",
      "Epoch 43/60\n",
      "6616/6616 [==============================] - 0s 30us/sample - loss: 0.0819 - accuracy: 0.9843 - val_loss: 0.0594 - val_accuracy: 0.9986\n",
      "Epoch 44/60\n",
      "6616/6616 [==============================] - 0s 29us/sample - loss: 0.0806 - accuracy: 0.9843 - val_loss: 0.0581 - val_accuracy: 0.9986\n",
      "Epoch 45/60\n",
      "6616/6616 [==============================] - 0s 28us/sample - loss: 0.0794 - accuracy: 0.9843 - val_loss: 0.0568 - val_accuracy: 0.9986\n",
      "Epoch 46/60\n",
      "6616/6616 [==============================] - 0s 32us/sample - loss: 0.0783 - accuracy: 0.9843 - val_loss: 0.0556 - val_accuracy: 0.9986\n",
      "Epoch 47/60\n",
      "6616/6616 [==============================] - 0s 28us/sample - loss: 0.0772 - accuracy: 0.9843 - val_loss: 0.0545 - val_accuracy: 0.9986\n",
      "Epoch 48/60\n",
      "6616/6616 [==============================] - 0s 30us/sample - loss: 0.0762 - accuracy: 0.9843 - val_loss: 0.0534 - val_accuracy: 0.9986\n",
      "Epoch 49/60\n",
      "6616/6616 [==============================] - 0s 28us/sample - loss: 0.0752 - accuracy: 0.9841 - val_loss: 0.0523 - val_accuracy: 0.9986\n",
      "Epoch 50/60\n",
      "6616/6616 [==============================] - 0s 29us/sample - loss: 0.0743 - accuracy: 0.9843 - val_loss: 0.0513 - val_accuracy: 0.9986\n",
      "Epoch 51/60\n",
      "6616/6616 [==============================] - 0s 32us/sample - loss: 0.0733 - accuracy: 0.9843 - val_loss: 0.0504 - val_accuracy: 0.9986\n",
      "Epoch 52/60\n",
      "6616/6616 [==============================] - 0s 28us/sample - loss: 0.0725 - accuracy: 0.9841 - val_loss: 0.0495 - val_accuracy: 0.9986\n",
      "Epoch 53/60\n",
      "6616/6616 [==============================] - 0s 29us/sample - loss: 0.0717 - accuracy: 0.9844 - val_loss: 0.0487 - val_accuracy: 0.9986\n",
      "Epoch 54/60\n",
      "6616/6616 [==============================] - 0s 29us/sample - loss: 0.0709 - accuracy: 0.9844 - val_loss: 0.0478 - val_accuracy: 0.9986\n",
      "Epoch 55/60\n",
      "6616/6616 [==============================] - 0s 29us/sample - loss: 0.0701 - accuracy: 0.9843 - val_loss: 0.0470 - val_accuracy: 0.9986\n",
      "Epoch 56/60\n"
     ]
    },
    {
     "name": "stdout",
     "output_type": "stream",
     "text": [
      "6616/6616 [==============================] - 0s 30us/sample - loss: 0.0694 - accuracy: 0.9841 - val_loss: 0.0462 - val_accuracy: 0.9986\n",
      "Epoch 57/60\n",
      "6616/6616 [==============================] - 0s 30us/sample - loss: 0.0687 - accuracy: 0.9843 - val_loss: 0.0455 - val_accuracy: 0.9986\n",
      "Epoch 58/60\n",
      "6616/6616 [==============================] - 0s 28us/sample - loss: 0.0681 - accuracy: 0.9843 - val_loss: 0.0448 - val_accuracy: 0.9986\n",
      "Epoch 59/60\n",
      "6616/6616 [==============================] - 0s 29us/sample - loss: 0.0675 - accuracy: 0.9843 - val_loss: 0.0442 - val_accuracy: 0.9986\n",
      "Epoch 60/60\n",
      "6616/6616 [==============================] - 0s 29us/sample - loss: 0.0668 - accuracy: 0.9846 - val_loss: 0.0434 - val_accuracy: 0.9986\n"
     ]
    }
   ],
   "source": [
    "\n",
    "print(X_train.dtype)\n",
    "history = model.fit(X_train, Y_train_onehot,\n",
    "                    batch_size=64, epochs=60,\n",
    "                    verbose=1,\n",
    "                    validation_split=0.1)"
   ]
  },
  {
   "cell_type": "code",
   "execution_count": 7,
   "metadata": {},
   "outputs": [
    {
     "data": {
      "image/png": "[encoded data removed]",
      "text/plain": [
       "<Figure size 432x288 with 1 Axes>"
      ]
     },
     "metadata": {
      "needs_background": "light"
     },
     "output_type": "display_data"
    },
    {
     "data": {
      "image/png": "[encoded data removed]",
      "text/plain": [
       "<Figure size 432x288 with 1 Axes>"
      ]
     },
     "metadata": {
      "needs_background": "light"
     },
     "output_type": "display_data"
    }
   ],
   "source": [
    "model.metrics_names\n",
    "import matplotlib.pyplot as plt\n",
    "%matplotlib inline\n",
    " \n",
    "\n",
    "def  compare_TV(history):\n",
    "\timport matplotlib.pyplot as plt\n",
    "\tacc = history.history['accuracy']\n",
    "\tval_acc = history.history['val_accuracy']\n",
    "\tloss = history.history['loss']\n",
    "\tval_loss = history.history['val_loss']\n",
    "\tepochs = range(len(acc))\n",
    "\tplt.plot(epochs, acc, 'bo' ,label = 'training acc')\n",
    "\tplt.plot(epochs, val_acc, 'b' , label= 'validation acc')\n",
    "\tplt.title('Training and Validation acc')\n",
    "\tplt.legend()\n",
    "\tplt.figure()\n",
    "\tplt.plot(epochs, loss, 'bo' ,label = 'training loss')\n",
    "\tplt.plot(epochs, val_loss, 'b' , label= 'validation loss')\n",
    "\tplt.title('Training and Validation loss')\n",
    "\tplt.legend()\n",
    "\tplt.show()\n",
    "compare_TV(history)"
   ]
  },
  {
   "cell_type": "code",
   "execution_count": 8,
   "metadata": {},
   "outputs": [
    {
     "name": "stdout",
     "output_type": "stream",
     "text": [
      "Test accuracy: 96.57%\n"
     ]
    }
   ],
   "source": [
    "\n",
    "Y_pred = model.predict_classes(X_test, \n",
    "                                    verbose=0)\n",
    "\n",
    "correct_preds = np.sum((Y_test == Y_pred), axis=0) \n",
    "test_acc = correct_preds / Y_test.shape[0]\n",
    "print('Test accuracy: %.2f%%' % (test_acc * 100))"
   ]
  },
  {
   "cell_type": "markdown",
   "metadata": {},
   "source": [
    "## NN 0.9657"
   ]
  },
  {
   "cell_type": "code",
   "execution_count": null,
   "metadata": {},
   "outputs": [],
   "source": []
  }
 ],
 "metadata": {
  "kernelspec": {
   "display_name": "Python 3",
   "language": "python",
   "name": "python3"
  },
  "language_info": {
   "codemirror_mode": {
    "name": "ipython",
    "version": 3
   },
   "file_extension": ".py",
   "mimetype": "text/x-python",
   "name": "python",
   "nbconvert_exporter": "python",
   "pygments_lexer": "ipython3",
   "version": "3.7.1"
  }
 },
 "nbformat": 4,
 "nbformat_minor": 4
}
