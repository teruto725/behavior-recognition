{
 "cells": [
  {
   "cell_type": "code",
   "execution_count": 1,
   "metadata": {},
   "outputs": [],
   "source": [
    "import numpy as np\n",
    "import matplotlib.pyplot as plt\n",
    "import pandas as pd\n",
    "import seaborn as sns"
   ]
  },
  {
   "cell_type": "code",
   "execution_count": 2,
   "metadata": {},
   "outputs": [
    {
     "name": "stdout",
     "output_type": "stream",
     "text": [
      "(7352, 561)\n",
      "561\n",
      "(7352, 561)\n",
      "(7352,)\n",
      "(2947,)\n",
      "(2947, 561)\n"
     ]
    },
    {
     "data": {
      "text/plain": [
       "dtype('float64')"
      ]
     },
     "execution_count": 2,
     "metadata": {},
     "output_type": "execute_result"
    }
   ],
   "source": [
    "\n",
    "f = open(\"./UCI HAR Dataset/train/y_train.txt\")\n",
    "y_data = f.read().split()\n",
    "y_data = np.array(y_data)\n",
    "y_data[0:10]\n",
    "y_label = [\"walking\",\"walking_upstaires\",\"walking_downstairs\",\"sitting,standing\",\"laying\"]\n",
    "f.close()\n",
    "f = open(\"./UCI HAR Dataset/train/X_train.txt\")\n",
    "X_data_arr = f.read().split()\n",
    "X_data_arr = np.reshape(X_data_arr,(7352,561))\n",
    "print(np.shape(X_data_arr))\n",
    "X_data = pd.DataFrame(X_data_arr)\n",
    "f.close()\n",
    "#ラベルデータ\n",
    "f_label = []\n",
    "with open('./UCI HAR Dataset/features.txt', mode='rt', encoding='utf-8') as f:\n",
    "    for line in f:\n",
    "        l = line.split()\n",
    "        f_label.append(l[1])\n",
    "print(len(f_label))\n",
    "#学習用データ\n",
    "X_train = X_data.values\n",
    "Y_train = y_data\n",
    "print(np.shape(X_train))\n",
    "print(np.shape(Y_train))\n",
    "#テスト用データ\n",
    "f = open(\"./UCI HAR Dataset/test/y_test.txt\")\n",
    "Y_test = np.array(f.read().split())\n",
    "print(np.shape(Y_test))\n",
    "f.close()\n",
    "f = open(\"./UCI HAR Dataset/test/X_test.txt\")\n",
    "X_test = f.read().split()\n",
    "X_test = np.reshape(X_test,(len(Y_test),int(len(X_test)/len(Y_test))))\n",
    "X_test = np.array(X_test, dtype=float)\n",
    "print(np.shape(X_test))\n",
    "X_test.dtype "
   ]
  },
  {
   "cell_type": "code",
   "execution_count": 5,
   "metadata": {},
   "outputs": [],
   "source": [
    "from sklearn.metrics import confusion_matrix\n",
    "from sklearn.metrics import accuracy_score\n",
    "import seaborn as sns\n",
    "import matplotlib.pyplot as plt\n",
    "def result_heatmap(Y_test,Y_pred):\n",
    "    print(accuracy_score(Y_test, Y_pred))\n",
    "    cm = confusion_matrix(Y_test, Y_pred)\n",
    "    print(cm)\n",
    "    sns.heatmap(cm,annot=True, cmap='Blues')"
   ]
  },
  {
   "cell_type": "code",
   "execution_count": 6,
   "metadata": {},
   "outputs": [
    {
     "name": "stderr",
     "output_type": "stream",
     "text": [
      "c:\\users\\井原輝人\\appdata\\local\\programs\\python\\python37\\lib\\site-packages\\sklearn\\discriminant_analysis.py:388: UserWarning: Variables are collinear.\n",
      "  warnings.warn(\"Variables are collinear.\")\n"
     ]
    },
    {
     "name": "stdout",
     "output_type": "stream",
     "text": [
      "0.9613165931455717\n",
      "[[492   4   0   0   0   0]\n",
      " [ 14 457   0   0   0   0]\n",
      " [  3   6 411   0   0   0]\n",
      " [  0   1   0 424  66   0]\n",
      " [  0   0   0  20 512   0]\n",
      " [  0   0   0   0   0 537]]\n"
     ]
    },
    {
     "data": {
      "image/png": "[encoded data removed]",
      "text/plain": [
       "<Figure size 432x288 with 2 Axes>"
      ]
     },
     "metadata": {
      "needs_background": "light"
     },
     "output_type": "display_data"
    }
   ],
   "source": [
    "#LDAで次元変換してみる いい感じ！！！\n",
    "from sklearn.preprocessing import StandardScaler\n",
    "from sklearn.ensemble import RandomForestClassifier\n",
    "from sklearn.pipeline import make_pipeline\n",
    "from sklearn.discriminant_analysis import LinearDiscriminantAnalysis as LDA\n",
    "from sklearn.metrics import confusion_matrix\n",
    "from sklearn.metrics import accuracy_score\n",
    "pipe_lda_forest = make_pipeline(LDA(n_components=6),\n",
    "                            RandomForestClassifier(n_estimators=100,\n",
    "                                    random_state=1))\n",
    "pipe_lda_forest.fit(X_train,Y_train)\n",
    "Y_pred = pipe_lda_forest.predict(X_test)\n",
    "result_heatmap(Y_test,Y_pred)"
   ]
  },
  {
   "cell_type": "code",
   "execution_count": null,
   "metadata": {},
   "outputs": [],
   "source": []
  },
  {
   "cell_type": "markdown",
   "metadata": {},
   "source": [
    "## ランダムフォレスト(n=100)＋LDA(n=6)　0.96131"
   ]
  }
 ],
 "metadata": {
  "kernelspec": {
   "display_name": "Python 3",
   "language": "python",
   "name": "python3"
  },
  "language_info": {
   "codemirror_mode": {
    "name": "ipython",
    "version": 3
   },
   "file_extension": ".py",
   "mimetype": "text/x-python",
   "name": "python",
   "nbconvert_exporter": "python",
   "pygments_lexer": "ipython3",
   "version": "3.7.1"
  }
 },
 "nbformat": 4,
 "nbformat_minor": 4
}
