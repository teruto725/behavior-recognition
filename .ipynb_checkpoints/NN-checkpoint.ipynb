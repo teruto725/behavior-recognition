{
 "cells": [
  {
   "cell_type": "code",
   "execution_count": 1,
   "metadata": {},
   "outputs": [],
   "source": [
    "import numpy as np\n",
    "import matplotlib.pyplot as plt\n",
    "import pandas as pd\n",
    "import seaborn as sns\n",
    "\n",
    "f = open(\"./UCI HAR Dataset/train/y_train.txt\")\n",
    "y_data = f.read().split()\n",
    "y_data = np.array(y_data)\n",
    "\n",
    "y_label = [\"walking\",\"walking_upstaires\",\"walking_downstairs\",\"sitting,standing\",\"laying\"]\n",
    "f.close()\n",
    "f = open(\"./UCI HAR Dataset/train/X_train.txt\")\n",
    "X_data_arr = f.read().split()\n",
    "X_data_arr = np.reshape(X_data_arr,(7352,561))\n",
    "X_data = pd.DataFrame(X_data_arr)\n",
    "f.close()\n",
    "#ラベルデータ\n",
    "f_label = []\n",
    "with open('./UCI HAR Dataset/features.txt', mode='rt', encoding='utf-8') as f:\n",
    "    for line in f:\n",
    "        l = line.split()\n",
    "        f_label.append(l[1])\n",
    "\n",
    "#学習用データ\n",
    "X_train = X_data.values\n",
    "Y_train = y_data\n",
    "X_train = X_train.astype(np.float64)\n",
    "Y_train = y_data.astype(np.int64)\n",
    "\n",
    "\n",
    "#テスト用データ\n",
    "f = open(\"./UCI HAR Dataset/test/y_test.txt\")\n",
    "Y_test = np.array(f.read().split())\n",
    "Y_test = Y_test.astype(np.int64)\n",
    "f.close()\n",
    "\n",
    "f = open(\"./UCI HAR Dataset/test/X_test.txt\")\n",
    "X_test = f.read().split()\n",
    "X_test = np.reshape(X_test,(len(Y_test),int(len(X_test)/len(Y_test))))\n",
    "X_test = np.array(X_test, dtype=float)\n"
   ]
  },
  {
   "cell_type": "code",
   "execution_count": 2,
   "metadata": {},
   "outputs": [
    {
     "name": "stdout",
     "output_type": "stream",
     "text": [
      "1.0\n"
     ]
    },
    {
     "name": "stderr",
     "output_type": "stream",
     "text": [
      "c:\\users\\井原輝人\\appdata\\local\\programs\\python\\python37\\lib\\site-packages\\sklearn\\discriminant_analysis.py:388: UserWarning: Variables are collinear.\n",
      "  warnings.warn(\"Variables are collinear.\")\n"
     ]
    },
    {
     "data": {
      "text/plain": [
       "(7352, 5)"
      ]
     },
     "execution_count": 2,
     "metadata": {},
     "output_type": "execute_result"
    }
   ],
   "source": [
    "#前処理（標準化＋LDA)\n",
    "\n",
    "from sklearn.pipeline import make_pipeline\n",
    "from sklearn.preprocessing import StandardScaler\n",
    "from sklearn.discriminant_analysis import LinearDiscriminantAnalysis as LDA\n",
    "sc = StandardScaler()\n",
    "X_train = sc.fit_transform(X_train)\n",
    "X_test = sc.transform(X_test)\n",
    "print(np.std(X_train[0:]))\n",
    "lda = LDA(n_components=6)\n",
    "X_train = lda.fit_transform(X_train,Y_train)\n",
    "X_test= lda.transform(X_test)\n",
    "np.shape(X_train)"
   ]
  },
  {
   "cell_type": "code",
   "execution_count": 3,
   "metadata": {},
   "outputs": [],
   "source": [
    "import tensorflow as tf\n",
    "import tensorflow.keras as keras\n",
    "\n",
    "# NOTE:\n",
    "# ================================================\n",
    "# If you have TensorFlow v1.3 installed\n",
    "# you can use the keras API by\n",
    "# importing it from the contrib module\n",
    "# `import tensorflow.contrib.keras as keras`\n"
   ]
  },
  {
   "cell_type": "code",
   "execution_count": 4,
   "metadata": {},
   "outputs": [
    {
     "name": "stdout",
     "output_type": "stream",
     "text": [
      "First 3 labels:  [5 5 5]\n",
      "\n",
      "First 3 labels (one-hot):\n",
      " [[0. 0. 0. 0. 0. 1. 0.]\n",
      " [0. 0. 0. 0. 0. 1. 0.]\n",
      " [0. 0. 0. 0. 0. 1. 0.]]\n"
     ]
    }
   ],
   "source": [
    "Y_train_onehot = keras.utils.to_categorical(Y_train)\n",
    "print('First 3 labels: ', Y_train[:3])\n",
    "print('\\nFirst 3 labels (one-hot):\\n', Y_train_onehot[:3])"
   ]
  },
  {
   "cell_type": "code",
   "execution_count": 5,
   "metadata": {},
   "outputs": [],
   "source": [
    "model = keras.models.Sequential()\n",
    "\n",
    "model.add(\n",
    "    keras.layers.Dense(\n",
    "        units=50,    \n",
    "        input_dim=np.shape(X_train)[1],\n",
    "        kernel_initializer='glorot_uniform',\n",
    "        bias_initializer='zeros',\n",
    "        activation='tanh'))\n",
    "\n",
    "model.add(\n",
    "    keras.layers.Dense(\n",
    "        units=50,    \n",
    "        input_dim=50,\n",
    "        kernel_initializer='glorot_uniform',\n",
    "        bias_initializer='zeros',\n",
    "        activation='tanh'))\n",
    "\n",
    "\n",
    "model.add(\n",
    "    keras.layers.Dense(\n",
    "        units=Y_train_onehot.shape[1],    \n",
    "        input_dim=50,\n",
    "        kernel_initializer='glorot_uniform',\n",
    "        bias_initializer='zeros',\n",
    "        activation='softmax'))\n",
    "\n",
    "\n",
    "sgd_optimizer = keras.optimizers.SGD(\n",
    "        lr=0.0001, decay=1e-7, momentum=.9)\n",
    "\n",
    "model.compile(optimizer=sgd_optimizer,\n",
    "              loss='categorical_crossentropy',\n",
    "              metrics=['accuracy'])"
   ]
  },
  {
   "cell_type": "code",
   "execution_count": 6,
   "metadata": {},
   "outputs": [
    {
     "name": "stdout",
     "output_type": "stream",
     "text": [
      "float64\n",
      "Train on 6616 samples, validate on 736 samples\n",
      "Epoch 1/60\n",
      "6616/6616 [==============================] - 1s 118us/sample - loss: 1.4308 - accuracy: 0.6728 - val_loss: 1.0714 - val_accuracy: 0.9769\n",
      "Epoch 2/60\n",
      "6616/6616 [==============================] - 0s 30us/sample - loss: 0.9131 - accuracy: 0.9636 - val_loss: 0.7617 - val_accuracy: 0.9851\n",
      "Epoch 3/60\n",
      "6616/6616 [==============================] - 0s 37us/sample - loss: 0.6905 - accuracy: 0.9761 - val_loss: 0.5987 - val_accuracy: 0.9918\n",
      "Epoch 4/60\n",
      "6616/6616 [==============================] - 0s 30us/sample - loss: 0.5636 - accuracy: 0.9791 - val_loss: 0.4977 - val_accuracy: 0.9986\n",
      "Epoch 5/60\n",
      "6616/6616 [==============================] - 0s 36us/sample - loss: 0.4803 - accuracy: 0.9817 - val_loss: 0.4278 - val_accuracy: 0.9986\n",
      "Epoch 6/60\n",
      "6616/6616 [==============================] - 0s 32us/sample - loss: 0.4203 - accuracy: 0.9823 - val_loss: 0.3758 - val_accuracy: 0.9986\n",
      "Epoch 7/60\n",
      "6616/6616 [==============================] - 0s 30us/sample - loss: 0.3744 - accuracy: 0.9823 - val_loss: 0.3352 - val_accuracy: 0.9986\n",
      "Epoch 8/60\n",
      "6616/6616 [==============================] - 0s 30us/sample - loss: 0.3376 - accuracy: 0.9823 - val_loss: 0.3022 - val_accuracy: 0.9986\n",
      "Epoch 9/60\n",
      "6616/6616 [==============================] - 0s 30us/sample - loss: 0.3071 - accuracy: 0.9828 - val_loss: 0.2745 - val_accuracy: 0.9986\n",
      "Epoch 10/60\n",
      "6616/6616 [==============================] - 0s 29us/sample - loss: 0.2814 - accuracy: 0.9826 - val_loss: 0.2510 - val_accuracy: 0.9986\n",
      "Epoch 11/60\n",
      "6616/6616 [==============================] - 0s 30us/sample - loss: 0.2594 - accuracy: 0.9834 - val_loss: 0.2307 - val_accuracy: 0.9986\n",
      "Epoch 12/60\n",
      "6616/6616 [==============================] - 0s 29us/sample - loss: 0.2403 - accuracy: 0.9831 - val_loss: 0.2130 - val_accuracy: 0.9986\n",
      "Epoch 13/60\n",
      "6616/6616 [==============================] - 0s 30us/sample - loss: 0.2237 - accuracy: 0.9831 - val_loss: 0.1975 - val_accuracy: 0.9986\n",
      "Epoch 14/60\n",
      "6616/6616 [==============================] - 0s 31us/sample - loss: 0.2091 - accuracy: 0.9831 - val_loss: 0.1838 - val_accuracy: 0.9973\n",
      "Epoch 15/60\n",
      "6616/6616 [==============================] - 0s 30us/sample - loss: 0.1962 - accuracy: 0.9837 - val_loss: 0.1717 - val_accuracy: 0.9973\n",
      "Epoch 16/60\n",
      "6616/6616 [==============================] - 0s 30us/sample - loss: 0.1847 - accuracy: 0.9838 - val_loss: 0.1609 - val_accuracy: 0.9973\n",
      "Epoch 17/60\n",
      "6616/6616 [==============================] - 0s 30us/sample - loss: 0.1745 - accuracy: 0.9838 - val_loss: 0.1513 - val_accuracy: 0.9973\n",
      "Epoch 18/60\n",
      "6616/6616 [==============================] - 0s 29us/sample - loss: 0.1654 - accuracy: 0.9840 - val_loss: 0.1426 - val_accuracy: 0.9973\n",
      "Epoch 19/60\n",
      "6616/6616 [==============================] - 0s 30us/sample - loss: 0.1572 - accuracy: 0.9837 - val_loss: 0.1346 - val_accuracy: 0.9973\n",
      "Epoch 20/60\n",
      "6616/6616 [==============================] - 0s 35us/sample - loss: 0.1499 - accuracy: 0.9844 - val_loss: 0.1276 - val_accuracy: 0.9973\n",
      "Epoch 21/60\n",
      "6616/6616 [==============================] - 0s 32us/sample - loss: 0.1432 - accuracy: 0.9838 - val_loss: 0.1210 - val_accuracy: 0.9973\n",
      "Epoch 22/60\n",
      "6616/6616 [==============================] - 0s 31us/sample - loss: 0.1371 - accuracy: 0.9841 - val_loss: 0.1152 - val_accuracy: 0.9973\n",
      "Epoch 23/60\n",
      "6616/6616 [==============================] - 0s 34us/sample - loss: 0.1316 - accuracy: 0.9840 - val_loss: 0.1098 - val_accuracy: 0.9973\n",
      "Epoch 24/60\n",
      "6616/6616 [==============================] - 0s 31us/sample - loss: 0.1267 - accuracy: 0.9840 - val_loss: 0.1048 - val_accuracy: 0.9973\n",
      "Epoch 25/60\n",
      "6616/6616 [==============================] - 0s 31us/sample - loss: 0.1220 - accuracy: 0.9843 - val_loss: 0.1004 - val_accuracy: 0.9973\n",
      "Epoch 26/60\n",
      "6616/6616 [==============================] - 0s 31us/sample - loss: 0.1178 - accuracy: 0.9844 - val_loss: 0.0961 - val_accuracy: 0.9973\n",
      "Epoch 27/60\n",
      "6616/6616 [==============================] - 0s 32us/sample - loss: 0.1140 - accuracy: 0.9844 - val_loss: 0.0923 - val_accuracy: 0.9973\n",
      "Epoch 28/60\n",
      "6616/6616 [==============================] - 0s 35us/sample - loss: 0.1104 - accuracy: 0.9846 - val_loss: 0.0888 - val_accuracy: 0.9973\n",
      "Epoch 29/60\n",
      "6616/6616 [==============================] - 0s 36us/sample - loss: 0.1071 - accuracy: 0.9849 - val_loss: 0.0855 - val_accuracy: 0.9973\n",
      "Epoch 30/60\n",
      "6616/6616 [==============================] - 0s 37us/sample - loss: 0.1041 - accuracy: 0.9847 - val_loss: 0.0824 - val_accuracy: 0.9973\n",
      "Epoch 31/60\n",
      "6616/6616 [==============================] - 0s 31us/sample - loss: 0.1013 - accuracy: 0.9847 - val_loss: 0.0794 - val_accuracy: 0.9986\n",
      "Epoch 32/60\n",
      "6616/6616 [==============================] - 0s 31us/sample - loss: 0.0986 - accuracy: 0.9847 - val_loss: 0.0769 - val_accuracy: 0.9973\n",
      "Epoch 33/60\n",
      "6616/6616 [==============================] - 0s 29us/sample - loss: 0.0962 - accuracy: 0.9843 - val_loss: 0.0744 - val_accuracy: 0.9973\n",
      "Epoch 34/60\n",
      "6616/6616 [==============================] - 0s 30us/sample - loss: 0.0940 - accuracy: 0.9846 - val_loss: 0.0721 - val_accuracy: 0.9973\n",
      "Epoch 35/60\n",
      "6616/6616 [==============================] - 0s 32us/sample - loss: 0.0918 - accuracy: 0.9844 - val_loss: 0.0700 - val_accuracy: 0.9973\n",
      "Epoch 36/60\n",
      "6616/6616 [==============================] - 0s 30us/sample - loss: 0.0898 - accuracy: 0.9846 - val_loss: 0.0678 - val_accuracy: 0.9973\n",
      "Epoch 37/60\n",
      "6616/6616 [==============================] - 0s 29us/sample - loss: 0.0880 - accuracy: 0.9847 - val_loss: 0.0659 - val_accuracy: 0.9973\n",
      "Epoch 38/60\n",
      "6616/6616 [==============================] - 0s 30us/sample - loss: 0.0862 - accuracy: 0.9849 - val_loss: 0.0641 - val_accuracy: 0.9973\n",
      "Epoch 39/60\n",
      "6616/6616 [==============================] - 0s 30us/sample - loss: 0.0846 - accuracy: 0.9847 - val_loss: 0.0625 - val_accuracy: 0.9973\n",
      "Epoch 40/60\n",
      "6616/6616 [==============================] - 0s 30us/sample - loss: 0.0830 - accuracy: 0.9847 - val_loss: 0.0607 - val_accuracy: 0.9973\n",
      "Epoch 41/60\n",
      "6616/6616 [==============================] - 0s 29us/sample - loss: 0.0815 - accuracy: 0.9850 - val_loss: 0.0592 - val_accuracy: 0.9973\n",
      "Epoch 42/60\n",
      "6616/6616 [==============================] - 0s 29us/sample - loss: 0.0802 - accuracy: 0.9850 - val_loss: 0.0578 - val_accuracy: 0.9973\n",
      "Epoch 43/60\n",
      "6616/6616 [==============================] - 0s 29us/sample - loss: 0.0788 - accuracy: 0.9847 - val_loss: 0.0563 - val_accuracy: 0.9986\n",
      "Epoch 44/60\n",
      "6616/6616 [==============================] - 0s 30us/sample - loss: 0.0776 - accuracy: 0.9847 - val_loss: 0.0550 - val_accuracy: 0.9986\n",
      "Epoch 45/60\n",
      "6616/6616 [==============================] - 0s 30us/sample - loss: 0.0764 - accuracy: 0.9850 - val_loss: 0.0538 - val_accuracy: 0.9973\n",
      "Epoch 46/60\n",
      "6616/6616 [==============================] - 0s 29us/sample - loss: 0.0753 - accuracy: 0.9849 - val_loss: 0.0527 - val_accuracy: 0.9973\n",
      "Epoch 47/60\n",
      "6616/6616 [==============================] - 0s 33us/sample - loss: 0.0743 - accuracy: 0.9850 - val_loss: 0.0516 - val_accuracy: 0.9973\n",
      "Epoch 48/60\n",
      "6616/6616 [==============================] - 0s 32us/sample - loss: 0.0733 - accuracy: 0.9850 - val_loss: 0.0504 - val_accuracy: 0.9986\n",
      "Epoch 49/60\n",
      "6616/6616 [==============================] - 0s 32us/sample - loss: 0.0723 - accuracy: 0.9853 - val_loss: 0.0494 - val_accuracy: 0.9973\n",
      "Epoch 50/60\n",
      "6616/6616 [==============================] - 0s 33us/sample - loss: 0.0715 - accuracy: 0.9850 - val_loss: 0.0484 - val_accuracy: 0.9973\n",
      "Epoch 51/60\n",
      "6616/6616 [==============================] - 0s 31us/sample - loss: 0.0705 - accuracy: 0.9849 - val_loss: 0.0474 - val_accuracy: 0.9986\n",
      "Epoch 52/60\n",
      "6616/6616 [==============================] - 0s 33us/sample - loss: 0.0697 - accuracy: 0.9850 - val_loss: 0.0465 - val_accuracy: 0.9986\n",
      "Epoch 53/60\n",
      "6616/6616 [==============================] - 0s 31us/sample - loss: 0.0690 - accuracy: 0.9847 - val_loss: 0.0456 - val_accuracy: 0.9986\n",
      "Epoch 54/60\n",
      "6616/6616 [==============================] - 0s 34us/sample - loss: 0.0682 - accuracy: 0.9850 - val_loss: 0.0448 - val_accuracy: 0.9986\n",
      "Epoch 55/60\n",
      "6616/6616 [==============================] - 0s 31us/sample - loss: 0.0675 - accuracy: 0.9850 - val_loss: 0.0441 - val_accuracy: 0.9986\n",
      "Epoch 56/60\n"
     ]
    },
    {
     "name": "stdout",
     "output_type": "stream",
     "text": [
      "6616/6616 [==============================] - 0s 33us/sample - loss: 0.0668 - accuracy: 0.9850 - val_loss: 0.0433 - val_accuracy: 0.9986\n",
      "Epoch 57/60\n",
      "6616/6616 [==============================] - 0s 29us/sample - loss: 0.0661 - accuracy: 0.9847 - val_loss: 0.0427 - val_accuracy: 0.9973\n",
      "Epoch 58/60\n",
      "6616/6616 [==============================] - 0s 30us/sample - loss: 0.0655 - accuracy: 0.9850 - val_loss: 0.0419 - val_accuracy: 0.9986\n",
      "Epoch 59/60\n",
      "6616/6616 [==============================] - 0s 35us/sample - loss: 0.0649 - accuracy: 0.9850 - val_loss: 0.0410 - val_accuracy: 0.9986\n",
      "Epoch 60/60\n",
      "6616/6616 [==============================] - 0s 29us/sample - loss: 0.0643 - accuracy: 0.9849 - val_loss: 0.0405 - val_accuracy: 0.9986\n"
     ]
    }
   ],
   "source": [
    "\n",
    "print(X_train.dtype)\n",
    "history = model.fit(X_train, Y_train_onehot,\n",
    "                    batch_size=64, epochs=60,\n",
    "                    verbose=1,\n",
    "                    validation_split=0.1)"
   ]
  },
  {
   "cell_type": "code",
   "execution_count": 7,
   "metadata": {},
   "outputs": [
    {
     "data": {
      "image/png": "[encoded data removed]",
      "text/plain": [
       "<Figure size 432x288 with 1 Axes>"
      ]
     },
     "metadata": {
      "needs_background": "light"
     },
     "output_type": "display_data"
    },
    {
     "data": {
      "image/png": "[encoded data removed]",
      "text/plain": [
       "<Figure size 432x288 with 1 Axes>"
      ]
     },
     "metadata": {
      "needs_background": "light"
     },
     "output_type": "display_data"
    }
   ],
   "source": [
    "model.metrics_names\n",
    "import matplotlib.pyplot as plt\n",
    "%matplotlib inline\n",
    " \n",
    "\n",
    "def  compare_TV(history):\n",
    "\timport matplotlib.pyplot as plt\n",
    "\tacc = history.history['accuracy']\n",
    "\tval_acc = history.history['val_accuracy']\n",
    "\tloss = history.history['loss']\n",
    "\tval_loss = history.history['val_loss']\n",
    "\tepochs = range(len(acc))\n",
    "\tplt.plot(epochs, acc, 'bo' ,label = 'training acc')\n",
    "\tplt.plot(epochs, val_acc, 'b' , label= 'validation acc')\n",
    "\tplt.title('Training and Validation acc')\n",
    "\tplt.legend()\n",
    "\tplt.figure()\n",
    "\tplt.plot(epochs, loss, 'bo' ,label = 'training loss')\n",
    "\tplt.plot(epochs, val_loss, 'b' , label= 'validation loss')\n",
    "\tplt.title('Training and Validation loss')\n",
    "\tplt.legend()\n",
    "\tplt.show()\n",
    "compare_TV(history)"
   ]
  },
  {
   "cell_type": "code",
   "execution_count": 8,
   "metadata": {},
   "outputs": [
    {
     "name": "stdout",
     "output_type": "stream",
     "text": [
      "Test accuracy: 96.37%\n"
     ]
    }
   ],
   "source": [
    "\n",
    "Y_pred = model.predict_classes(X_test, \n",
    "                                    verbose=0)\n",
    "\n",
    "correct_preds = np.sum((Y_test == Y_pred), axis=0) \n",
    "test_acc = correct_preds / Y_test.shape[0]\n",
    "print('Test accuracy: %.2f%%' % (test_acc * 100))"
   ]
  },
  {
   "cell_type": "code",
   "execution_count": null,
   "metadata": {},
   "outputs": [],
   "source": []
  }
 ],
 "metadata": {
  "kernelspec": {
   "display_name": "Python 3",
   "language": "python",
   "name": "python3"
  },
  "language_info": {
   "codemirror_mode": {
    "name": "ipython",
    "version": 3
   },
   "file_extension": ".py",
   "mimetype": "text/x-python",
   "name": "python",
   "nbconvert_exporter": "python",
   "pygments_lexer": "ipython3",
   "version": "3.7.1"
  }
 },
 "nbformat": 4,
 "nbformat_minor": 4
}
